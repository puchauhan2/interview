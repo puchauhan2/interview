{
 "cells": [
  {
   "cell_type": "code",
   "execution_count": 1,
   "id": "54205e2d-81d8-4527-94f1-03c3cff8e10d",
   "metadata": {},
   "outputs": [
    {
     "name": "stdout",
     "output_type": "stream",
     "text": [
      "hello\n"
     ]
    }
   ],
   "source": [
    "print(\"hello\")"
   ]
  },
  {
   "cell_type": "code",
   "execution_count": 25,
   "id": "67280f5f-c71d-4620-9418-df868e06ca40",
   "metadata": {},
   "outputs": [
    {
     "name": "stdout",
     "output_type": "stream",
     "text": [
      "(1, [1, 2, 3], 3)\n",
      "{'a': 'hello'}\n"
     ]
    }
   ],
   "source": [
    "def argument_test(*args, **kwargs):\n",
    "    print(args)\n",
    "    print(kwargs)\n",
    "argument_test(1,a,3,a=\"hello\")"
   ]
  },
  {
   "cell_type": "code",
   "execution_count": 15,
   "id": "4b4d74b6-0b7c-4bbc-b6df-435746098150",
   "metadata": {},
   "outputs": [
    {
     "data": {
      "text/plain": [
       "<generator object gen at 0x000001DBCA294460>"
      ]
     },
     "execution_count": 15,
     "metadata": {},
     "output_type": "execute_result"
    }
   ],
   "source": [
    "def gen():\n",
    "    yield 1\n",
    "    yield 2\n",
    "gen()"
   ]
  },
  {
   "cell_type": "code",
   "execution_count": 16,
   "id": "d201b517-cf17-4b80-b7d6-e1096f34711a",
   "metadata": {},
   "outputs": [
    {
     "name": "stdout",
     "output_type": "stream",
     "text": [
      "True\n",
      "False\n",
      "True\n"
     ]
    }
   ],
   "source": [
    "a = [1, 2, 3]\n",
    "b = [1, 2, 3]\n",
    "c = a\n",
    "\n",
    "print(a == b)  # True (same values)\n",
    "print(a is b)  # False (different objects)\n",
    "print(a is c)  # True (same object)"
   ]
  },
  {
   "cell_type": "code",
   "execution_count": 21,
   "id": "61a31250-9e7f-44a2-bdd6-8646ea2da862",
   "metadata": {},
   "outputs": [
    {
     "name": "stdout",
     "output_type": "stream",
     "text": [
      "[1, 2, 3, 4, [5, 6]]\n",
      "[5, 6]\n"
     ]
    }
   ],
   "source": [
    "list1=[1,2,3,4]\n",
    "list1.append([5,6])\n",
    "print(list1)\n",
    "print(list1[4])"
   ]
  },
  {
   "cell_type": "code",
   "execution_count": 20,
   "id": "271ef7ce-80e9-4b59-ae1b-22ada14633d6",
   "metadata": {},
   "outputs": [
    {
     "name": "stdout",
     "output_type": "stream",
     "text": [
      "[1, 2, 3, 4, 5, 6]\n"
     ]
    }
   ],
   "source": [
    "list2=[1,2,3,4]\n",
    "list2.extend([5,6])\n",
    "print(list2)"
   ]
  },
  {
   "cell_type": "code",
   "execution_count": null,
   "id": "9bdf8e31-47fb-46b5-8a28-a85f046f49ac",
   "metadata": {},
   "outputs": [],
   "source": []
  }
 ],
 "metadata": {
  "kernelspec": {
   "display_name": "Python 3 (ipykernel)",
   "language": "python",
   "name": "python3"
  },
  "language_info": {
   "codemirror_mode": {
    "name": "ipython",
    "version": 3
   },
   "file_extension": ".py",
   "mimetype": "text/x-python",
   "name": "python",
   "nbconvert_exporter": "python",
   "pygments_lexer": "ipython3",
   "version": "3.12.3"
  }
 },
 "nbformat": 4,
 "nbformat_minor": 5
}
