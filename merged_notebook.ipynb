{
 "cells": [
  {
   "cell_type": "code",
   "execution_count": 1,
   "id": "54205e2d-81d8-4527-94f1-03c3cff8e10d",
   "metadata": {},
   "outputs": [
    {
     "name": "stdout",
     "output_type": "stream",
     "text": [
      "hello\n"
     ]
    }
   ],
   "source": [
    "print(\"hello\")"
   ]
  },
  {
   "cell_type": "code",
   "execution_count": 25,
   "id": "67280f5f-c71d-4620-9418-df868e06ca40",
   "metadata": {},
   "outputs": [
    {
     "name": "stdout",
     "output_type": "stream",
     "text": [
      "(1, [1, 2, 3], 3)\n",
      "{'a': 'hello'}\n"
     ]
    }
   ],
   "source": [
    "def argument_test(*args, **kwargs):\n",
    "    print(args)\n",
    "    print(kwargs)\n",
    "argument_test(1,a,3,a=\"hello\")"
   ]
  },
  {
   "cell_type": "code",
   "execution_count": 15,
   "id": "4b4d74b6-0b7c-4bbc-b6df-435746098150",
   "metadata": {},
   "outputs": [
    {
     "data": {
      "text/plain": [
       "<generator object gen at 0x000001DBCA294460>"
      ]
     },
     "execution_count": 15,
     "metadata": {},
     "output_type": "execute_result"
    }
   ],
   "source": [
    "def gen():\n",
    "    yield 1\n",
    "    yield 2\n",
    "gen()"
   ]
  },
  {
   "cell_type": "code",
   "execution_count": 16,
   "id": "d201b517-cf17-4b80-b7d6-e1096f34711a",
   "metadata": {},
   "outputs": [
    {
     "name": "stdout",
     "output_type": "stream",
     "text": [
      "True\n",
      "False\n",
      "True\n"
     ]
    }
   ],
   "source": [
    "a = [1, 2, 3]\n",
    "b = [1, 2, 3]\n",
    "c = a\n",
    "\n",
    "print(a == b)  # True (same values)\n",
    "print(a is b)  # False (different objects)\n",
    "print(a is c)  # True (same object)"
   ]
  },
  {
   "cell_type": "code",
   "execution_count": 21,
   "id": "61a31250-9e7f-44a2-bdd6-8646ea2da862",
   "metadata": {},
   "outputs": [
    {
     "name": "stdout",
     "output_type": "stream",
     "text": [
      "[1, 2, 3, 4, [5, 6]]\n",
      "[5, 6]\n"
     ]
    }
   ],
   "source": [
    "list1=[1,2,3,4]\n",
    "list1.append([5,6])\n",
    "print(list1)\n",
    "print(list1[4])"
   ]
  },
  {
   "cell_type": "code",
   "execution_count": 1,
   "id": "271ef7ce-80e9-4b59-ae1b-22ada14633d6",
   "metadata": {},
   "outputs": [
    {
     "name": "stdout",
     "output_type": "stream",
     "text": [
      "[1, 2, 3, 4, 5, 6]\n"
     ]
    }
   ],
   "source": [
    "list2=[1,2,3,4]\n",
    "list2.extend([5,6])\n",
    "print(list2)"
   ]
  },
  {
   "cell_type": "code",
   "execution_count": null,
   "id": "9bdf8e31-47fb-46b5-8a28-a85f046f49ac",
   "metadata": {},
   "outputs": [],
   "source": []
  },
  {
   "cell_type": "code",
   "execution_count": 1,
   "id": "0fc4ef80",
   "metadata": {},
   "outputs": [
    {
     "name": "stdout",
     "output_type": "stream",
     "text": [
      "interview\n"
     ]
    }
   ],
   "source": [
    "print(\"interview\")"
   ]
  },
  {
   "cell_type": "code",
   "execution_count": 3,
   "id": "6b56c38e",
   "metadata": {},
   "outputs": [
    {
     "name": "stdout",
     "output_type": "stream",
     "text": [
      "(1, 2, 3, 'apple', 'bubble')\n",
      "{'f': 'cherry'}\n"
     ]
    }
   ],
   "source": [
    "def apple(*args,**kwargs):\n",
    "    print(args)\n",
    "    print(kwargs)\n",
    "apple(1,2,3,\"apple\",\"bubble\",f=\"cherry\")"
   ]
  },
  {
   "cell_type": "code",
   "execution_count": 7,
   "id": "0ccb89bd-aceb-4315-a98a-780d340fe2fb",
   "metadata": {},
   "outputs": [
    {
     "name": "stdout",
     "output_type": "stream",
     "text": [
      "Args 2\n",
      "Args 3\n",
      "Args apple\n",
      "Kwargs val\n",
      "Kwargs val2\n"
     ]
    }
   ],
   "source": [
    "def greet(samevalue,*args,**kwargs):\n",
    "    for name in args:\n",
    "        print(\"Args\",name)\n",
    "\n",
    "    for name1 in kwargs:\n",
    "        print(\"Kwargs\",name1)\n",
    "\n",
    "greet(1,2,3,\"apple\",val=\"vaue1\",val2=\"value2\")"
   ]
  },
  {
   "cell_type": "code",
   "execution_count": 11,
   "id": "1df837a6-c682-4af0-adfc-61a471063de4",
   "metadata": {},
   "outputs": [
    {
     "data": {
      "text/plain": [
       "<function __main__.logged_function.<locals>.wrapper(*args, **kwargs)>"
      ]
     },
     "execution_count": 11,
     "metadata": {},
     "output_type": "execute_result"
    }
   ],
   "source": [
    "def logged_function(func):\n",
    "    def wrapper(*args, **kwargs):\n",
    "        print(f\"Calling {func.__name__}\")\n",
    "        return func(*args, **kwargs)\n",
    "    return wrapper\n",
    "logged_function(\"a\")"
   ]
  },
  {
   "cell_type": "code",
   "execution_count": 19,
   "id": "5cbebda4-ac46-46fd-b3c5-e1549124f366",
   "metadata": {},
   "outputs": [
    {
     "name": "stdout",
     "output_type": "stream",
     "text": [
      "printing result : Done!\n",
      "slow_function took 1.0055 seconds\n"
     ]
    },
    {
     "data": {
      "text/plain": [
       "'Done!'"
      ]
     },
     "execution_count": 19,
     "metadata": {},
     "output_type": "execute_result"
    }
   ],
   "source": [
    "import time\n",
    "\n",
    "def timing_decorator(func):\n",
    "    def wrapper(*args, **kwargs):\n",
    "        start_time = time.time()\n",
    "        result = func(*args, **kwargs)\n",
    "        print(\"printing result :\",result)\n",
    "        end_time = time.time()\n",
    "        print(f\"{func.__name__} took {end_time - start_time:.4f} seconds\")\n",
    "        return result\n",
    "    return wrapper\n",
    "\n",
    "@timing_decorator\n",
    "def slow_function():\n",
    "    time.sleep(1)\n",
    "    return \"Done!\"\n",
    "\n",
    "# When called, it will print timing information\n",
    "slow_function()  # Output: slow_function took 1.0001 seconds"
   ]
  },
  {
   "cell_type": "code",
   "execution_count": 4,
   "id": "3f1b88d9-42a5-4a95-854c-0905abdd5fcc",
   "metadata": {},
   "outputs": [
    {
     "name": "stdout",
     "output_type": "stream",
     "text": [
      "122045\n",
      "Good Afternoon\n"
     ]
    }
   ],
   "source": [
    "import time\n",
    "\n",
    "current_time=int(time.strftime('%H%M%S'))\n",
    "print(current_time)\n",
    "\n",
    "if(current_time > 170000 and current_time < 200000):\n",
    "    print(\"Good Evening\")\n",
    "elif(current_time > 200001 and current_time < 60000):\n",
    "    print(\"Good Night\")\n",
    "elif(current_time > 60000 and current_time < 120000):\n",
    "    print(\"Good morning\")\n",
    "elif(current_time > 120000 and current_time < 170000):\n",
    "    print(\"Good Afternoon\")\n",
    "else:\n",
    "    print(\"we are on Mars\")"
   ]
  },
  {
   "cell_type": "code",
   "execution_count": 3,
   "id": "a19d5bfe-d10e-4107-83dc-56cc361c2bc8",
   "metadata": {},
   "outputs": [
    {
     "name": "stdin",
     "output_type": "stream",
     "text": [
      "PLease input your number\n",
      " 0\n"
     ]
    },
    {
     "name": "stdout",
     "output_type": "stream",
     "text": [
      "It is zero\n"
     ]
    }
   ],
   "source": [
    "x=int(input(\"PLease input your number\\n\"))\n",
    "match x:\n",
    "    case 0:\n",
    "        print(\"It is zero\")\n",
    "    case 1:\n",
    "        print('It is one')\n",
    "    case _:\n",
    "        print('function executed')"
   ]
  },
  {
   "cell_type": "code",
   "execution_count": null,
   "id": "1bdcd2f0-d337-4be3-a2e7-91666faac447",
   "metadata": {},
   "outputs": [],
   "source": []
  }
 ],
 "metadata": {
  "kernelspec": {
   "display_name": "Python [conda env:base] *",
   "language": "python",
   "name": "conda-base-py"
  },
  "language_info": {
   "codemirror_mode": {
    "name": "ipython",
    "version": 3
   },
   "file_extension": ".py",
   "mimetype": "text/x-python",
   "name": "python",
   "nbconvert_exporter": "python",
   "pygments_lexer": "ipython3",
   "version": "3.12.7"
  }
 },
 "nbformat": 4,
 "nbformat_minor": 5
}
